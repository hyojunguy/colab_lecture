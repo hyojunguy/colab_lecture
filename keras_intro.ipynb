{
  "nbformat": 4,
  "nbformat_minor": 0,
  "metadata": {
    "colab": {
      "name": "keras_intro.ipynb",
      "version": "0.3.2",
      "provenance": [],
      "collapsed_sections": []
    },
    "kernelspec": {
      "name": "python3",
      "display_name": "Python 3"
    }
  },
  "cells": [
    {
      "cell_type": "markdown",
      "metadata": {
        "id": "ZD4QYPQRJ1qZ",
        "colab_type": "text"
      },
      "source": [
        "#Keras\n",
        "\n",
        "## *Keras는 Python으로 작성 되었으며 TensorFlow, CNTK, Theano와 같은 Deep Learning 라이브러리 위에서 실행할 수 있는 High-level Neural Network API 입니다.*"
      ]
    },
    {
      "cell_type": "markdown",
      "metadata": {
        "id": "ETrCHnwFKns1",
        "colab_type": "text"
      },
      "source": [
        "## 케라스 임포트"
      ]
    },
    {
      "cell_type": "code",
      "metadata": {
        "id": "-Xs65J3dJpz-",
        "colab_type": "code",
        "colab": {}
      },
      "source": [
        "import numpy as np\n",
        "np.random.seed(123)  # for reproducibility\n",
        "\n",
        "import keras\n",
        "\t\n",
        "from keras.utils import np_utils"
      ],
      "execution_count": 0,
      "outputs": []
    },
    {
      "cell_type": "markdown",
      "metadata": {
        "id": "-KKuVDqKgq2e",
        "colab_type": "text"
      },
      "source": [
        "# 데이타\n"
      ]
    },
    {
      "cell_type": "code",
      "metadata": {
        "id": "oswU-ro2gumc",
        "colab_type": "code",
        "colab": {
          "base_uri": "https://localhost:8080/",
          "height": 303
        },
        "outputId": "690695da-cfb3-4a0e-805c-b7d3b24f5d4d"
      },
      "source": [
        "from keras.datasets import mnist\n",
        " \n",
        "# Load pre-shuffled MNIST data into train and test sets\n",
        "(X_train, y_train), (X_test, y_test) = mnist.load_data()\n",
        "\n",
        "\n",
        "print(X_train.shape)\n",
        "# (60000, 28, 28)\n",
        "\n",
        "from matplotlib import pyplot as plt\n",
        "plt.imshow(X_train[20])"
      ],
      "execution_count": 20,
      "outputs": [
        {
          "output_type": "stream",
          "text": [
            "(60000, 28, 28)\n"
          ],
          "name": "stdout"
        },
        {
          "output_type": "execute_result",
          "data": {
            "text/plain": [
              "<matplotlib.image.AxesImage at 0x7f29c78c24e0>"
            ]
          },
          "metadata": {
            "tags": []
          },
          "execution_count": 20
        },
        {
          "output_type": "display_data",
          "data": {
            "image/png": "[encoded data removed]",
            "text/plain": [
              "<Figure size 432x288 with 1 Axes>"
            ]
          },
          "metadata": {
            "tags": []
          }
        }
      ]
    },
    {
      "cell_type": "markdown",
      "metadata": {
        "id": "Iy0LfZ_Mn7q_",
        "colab_type": "text"
      },
      "source": [
        "#전처리"
      ]
    },
    {
      "cell_type": "code",
      "metadata": {
        "id": "TvSuCcvln9cn",
        "colab_type": "code",
        "colab": {
          "base_uri": "https://localhost:8080/",
          "height": 119
        },
        "outputId": "e2a8df51-340d-4f88-b7e7-3a172f655fa7"
      },
      "source": [
        "# 5. Preprocess input data\n",
        "X_train = X_train.reshape(X_train.shape[0], 1, 28, 28)\n",
        "X_test = X_test.reshape(X_test.shape[0], 1, 28, 28)\n",
        "\n",
        "print(X_train.shape)\n",
        "\n",
        "X_train = X_train.astype('float32')\n",
        "X_test = X_test.astype('float32')\n",
        "X_train /= 255\n",
        "X_test /= 255\n",
        "\n",
        "print(X_train.shape)\n",
        "\n",
        "print(y_train.shape)\n",
        "\n",
        "# 6. Preprocess class labels\n",
        "Y_train = np_utils.to_categorical(y_train, 10)\n",
        "Y_test = np_utils.to_categorical(y_test, 10)\n",
        "\n",
        "print(Y_train.shape)\n",
        "\n",
        "print(y_train[10])\n",
        "print(Y_train[10])"
      ],
      "execution_count": 25,
      "outputs": [
        {
          "output_type": "stream",
          "text": [
            "(60000, 1, 28, 28)\n",
            "(60000, 1, 28, 28)\n",
            "(60000,)\n",
            "(60000, 10)\n",
            "3\n",
            "[0. 0. 0. 1. 0. 0. 0. 0. 0. 0.]\n"
          ],
          "name": "stdout"
        }
      ]
    },
    {
      "cell_type": "markdown",
      "metadata": {
        "id": "D_bbwC3LKsI8",
        "colab_type": "text"
      },
      "source": [
        "#모델\n",
        "\n",
        "Keras에서 레이어(Layer)들을 구성하는 방법으로 사용되는 핵심적인 자료구조형은 모델(Model)입니다. \n",
        "\n",
        "그 중에서도 가장 간단한 형태의 모델은 레이어들을 선형으로 쌓는 Sequential Model 입니다."
      ]
    },
    {
      "cell_type": "code",
      "metadata": {
        "id": "LBu4YeiyKvY9",
        "colab_type": "code",
        "colab": {}
      },
      "source": [
        "from keras.models import Sequential\n",
        "\n",
        "model = Sequential()"
      ],
      "execution_count": 0,
      "outputs": []
    },
    {
      "cell_type": "markdown",
      "metadata": {
        "id": "Txux9obMLF8V",
        "colab_type": "text"
      },
      "source": [
        "레이어는 다음과 같이 간단하게 .add()를 통해 추가할 수 있습니다."
      ]
    },
    {
      "cell_type": "code",
      "metadata": {
        "id": "Gj-e_fsJLG1F",
        "colab_type": "code",
        "colab": {
          "base_uri": "https://localhost:8080/",
          "height": 391
        },
        "outputId": "1382fda3-7d1a-4126-8bcb-f3b8e23642b9"
      },
      "source": [
        "from keras.layers import Dense, Dropout, Activation, Flatten\n",
        "\n",
        "model.add(Dense(units=64, activation='relu', input_shape=(1,28,28)))\n",
        "\n",
        "model.add(Flatten())\n",
        "\n",
        "model.add(Dense(units=10, activation='softmax'))\n",
        "\n",
        "print(\"#### Sequential Model\")\n",
        "model.summary()"
      ],
      "execution_count": 34,
      "outputs": [
        {
          "output_type": "stream",
          "text": [
            "#### Sequential Model\n",
            "_________________________________________________________________\n",
            "Layer (type)                 Output Shape              Param #   \n",
            "=================================================================\n",
            "dense_5 (Dense)              (None, 1, 28, 64)         1856      \n",
            "_________________________________________________________________\n",
            "dense_6 (Dense)              (None, 1, 28, 10)         650       \n",
            "_________________________________________________________________\n",
            "dense_7 (Dense)              (None, 1, 28, 64)         704       \n",
            "_________________________________________________________________\n",
            "dense_8 (Dense)              (None, 1, 28, 64)         4160      \n",
            "_________________________________________________________________\n",
            "flatten_1 (Flatten)          (None, 1792)              0         \n",
            "_________________________________________________________________\n",
            "dense_9 (Dense)              (None, 10)                17930     \n",
            "=================================================================\n",
            "Total params: 2,506\n",
            "Trainable params: 2,506\n",
            "Non-trainable params: 0\n",
            "_________________________________________________________________\n"
          ],
          "name": "stdout"
        },
        {
          "output_type": "stream",
          "text": [
            "/usr/local/lib/python3.6/dist-packages/keras/engine/training.py:490: UserWarning: Discrepancy between trainable weights and collected trainable weights, did you set `model.trainable` without calling `model.compile` after ?\n",
            "  'Discrepancy between trainable weights and collected trainable'\n"
          ],
          "name": "stderr"
        }
      ]
    },
    {
      "cell_type": "markdown",
      "metadata": {
        "id": "-FyugTwPf14V",
        "colab_type": "text"
      },
      "source": [
        ".compile()을 통해 학습 방법을 설정"
      ]
    },
    {
      "cell_type": "code",
      "metadata": {
        "id": "91WeLa8zf3ZK",
        "colab_type": "code",
        "colab": {}
      },
      "source": [
        "model.compile(loss='categorical_crossentropy',\n",
        "              optimizer='sgd',\n",
        "              metrics=['accuracy'])"
      ],
      "execution_count": 0,
      "outputs": []
    },
    {
      "cell_type": "markdown",
      "metadata": {
        "id": "5--bETsXf9GT",
        "colab_type": "text"
      },
      "source": [
        ".fit()을 통해 모델에 직접 학습데이터(Train Data)를 넣어 학습 시킬 수 있습니다."
      ]
    },
    {
      "cell_type": "code",
      "metadata": {
        "id": "GyhBSXqhf93L",
        "colab_type": "code",
        "colab": {
          "base_uri": "https://localhost:8080/",
          "height": 476
        },
        "outputId": "e3588def-5498-48be-d846-dc9828f83b2a"
      },
      "source": [
        "model.fit(X_train, Y_train, batch_size=32, epochs=10, verbose=1)\n"
      ],
      "execution_count": 36,
      "outputs": [
        {
          "output_type": "stream",
          "text": [
            "WARNING:tensorflow:From /usr/local/lib/python3.6/dist-packages/tensorflow/python/ops/math_ops.py:3066: to_int32 (from tensorflow.python.ops.math_ops) is deprecated and will be removed in a future version.\n",
            "Instructions for updating:\n",
            "Use tf.cast instead.\n",
            "WARNING:tensorflow:From /usr/local/lib/python3.6/dist-packages/tensorflow/python/ops/math_grad.py:102: div (from tensorflow.python.ops.math_ops) is deprecated and will be removed in a future version.\n",
            "Instructions for updating:\n",
            "Deprecated in favor of operator or tf.math.divide.\n",
            "Epoch 1/10\n",
            "60000/60000 [==============================] - 12s 206us/step - loss: 2.3016 - acc: 0.1112\n",
            "Epoch 2/10\n",
            "60000/60000 [==============================] - 12s 197us/step - loss: 2.3014 - acc: 0.1124\n",
            "Epoch 3/10\n",
            "60000/60000 [==============================] - 11s 179us/step - loss: 2.3014 - acc: 0.1124\n",
            "Epoch 4/10\n",
            "60000/60000 [==============================] - 11s 191us/step - loss: 2.3014 - acc: 0.1124\n",
            "Epoch 5/10\n",
            "60000/60000 [==============================] - 11s 190us/step - loss: 2.3014 - acc: 0.1124\n",
            "Epoch 6/10\n",
            "60000/60000 [==============================] - 11s 190us/step - loss: 2.3013 - acc: 0.1124\n",
            "Epoch 7/10\n",
            "60000/60000 [==============================] - 11s 191us/step - loss: 2.3014 - acc: 0.1124\n",
            "Epoch 8/10\n",
            "60000/60000 [==============================] - 11s 189us/step - loss: 2.3013 - acc: 0.1124\n",
            "Epoch 9/10\n",
            "60000/60000 [==============================] - 11s 186us/step - loss: 2.3014 - acc: 0.1124\n",
            "Epoch 10/10\n",
            "60000/60000 [==============================] - 11s 188us/step - loss: 2.3014 - acc: 0.1124\n"
          ],
          "name": "stdout"
        },
        {
          "output_type": "execute_result",
          "data": {
            "text/plain": [
              "<keras.callbacks.History at 0x7f29c7747a90>"
            ]
          },
          "metadata": {
            "tags": []
          },
          "execution_count": 36
        }
      ]
    },
    {
      "cell_type": "markdown",
      "metadata": {
        "id": "Nvem6xiwgD5D",
        "colab_type": "text"
      },
      "source": [
        "모델이 학습이 완료되면, 단 한줄로 평가가 가능합니다."
      ]
    },
    {
      "cell_type": "code",
      "metadata": {
        "id": "KLW8JEL0gGt7",
        "colab_type": "code",
        "colab": {}
      },
      "source": [
        "loss_and_metrics = model.evaluate(X_test_std, Y_test, batch_size=128)\n"
      ],
      "execution_count": 0,
      "outputs": []
    },
    {
      "cell_type": "markdown",
      "metadata": {
        "id": "dNyjFsmfgQRd",
        "colab_type": "text"
      },
      "source": [
        "예측(Predict)도 가능합니다."
      ]
    },
    {
      "cell_type": "code",
      "metadata": {
        "id": "xkuKL3iAgMe8",
        "colab_type": "code",
        "colab": {}
      },
      "source": [
        "classes = model.predict(X_test_std, batch_size=105)"
      ],
      "execution_count": 0,
      "outputs": []
    }
  ]
}
